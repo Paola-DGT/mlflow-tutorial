{
 "cells": [
  {
   "cell_type": "markdown",
   "id": "df0aae0a",
   "metadata": {
    "pycharm": {
     "name": "#%% md\n"
    }
   },
   "source": [
    "## Searching runs"
   ]
  },
  {
   "cell_type": "code",
   "execution_count": 12,
   "id": "125ce43c",
   "metadata": {
    "pycharm": {
     "name": "#%%\n"
    }
   },
   "outputs": [],
   "source": [
    "import mlflow\n",
    "import pandas as pd\n",
    "mlflow.set_tracking_uri(\"http://localhost:8968\")"
   ]
  },
  {
   "cell_type": "code",
   "execution_count": 18,
   "id": "4a1735c5",
   "metadata": {
    "pycharm": {
     "name": "#%%\n"
    },
    "scrolled": true
   },
   "outputs": [
    {
     "data": {
      "text/plain": [
       "[<Experiment: artifact_location='mlflow-artifacts:/405621443145731966', creation_time=1674072226981, experiment_id='405621443145731966', last_update_time=1674072226981, lifecycle_stage='active', name='SimpleClassification', tags={}>,\n",
       " <Experiment: artifact_location='mlflow-artifacts:/959170388043535520', creation_time=1673991175740, experiment_id='959170388043535520', last_update_time=1673991175740, lifecycle_stage='active', name='PlainRegression', tags={}>,\n",
       " <Experiment: artifact_location='mlflow-artifacts:/210527794161426161', creation_time=1673988081995, experiment_id='210527794161426161', last_update_time=1673988081995, lifecycle_stage='active', name='helloWorld', tags={}>,\n",
       " <Experiment: artifact_location='mlflow-artifacts:/0', creation_time=1673986992138, experiment_id='0', last_update_time=1673986992138, lifecycle_stage='active', name='Default', tags={}>]"
      ]
     },
     "execution_count": 18,
     "metadata": {},
     "output_type": "execute_result"
    }
   ],
   "source": [
    "# the search_runs method by default returns a dataframe of of the runs executed under a particular experiment ID\n",
    "mlflow.search_experiments()"
   ]
  },
  {
   "cell_type": "code",
   "execution_count": 15,
   "id": "d00f235d",
   "metadata": {
    "pycharm": {
     "name": "#%%\n"
    }
   },
   "outputs": [
    {
     "data": {
      "text/html": [
       "<div>\n",
       "<style scoped>\n",
       "    .dataframe tbody tr th:only-of-type {\n",
       "        vertical-align: middle;\n",
       "    }\n",
       "\n",
       "    .dataframe tbody tr th {\n",
       "        vertical-align: top;\n",
       "    }\n",
       "\n",
       "    .dataframe thead th {\n",
       "        text-align: right;\n",
       "    }\n",
       "</style>\n",
       "<table border=\"1\" class=\"dataframe\">\n",
       "  <thead>\n",
       "    <tr style=\"text-align: right;\">\n",
       "      <th></th>\n",
       "      <th>run_id</th>\n",
       "      <th>experiment_id</th>\n",
       "      <th>status</th>\n",
       "      <th>artifact_uri</th>\n",
       "      <th>start_time</th>\n",
       "      <th>end_time</th>\n",
       "    </tr>\n",
       "  </thead>\n",
       "  <tbody>\n",
       "  </tbody>\n",
       "</table>\n",
       "</div>"
      ],
      "text/plain": [
       "Empty DataFrame\n",
       "Columns: [run_id, experiment_id, status, artifact_uri, start_time, end_time]\n",
       "Index: []"
      ]
     },
     "execution_count": 15,
     "metadata": {},
     "output_type": "execute_result"
    }
   ],
   "source": [
    "# these runs can be queried by passing in an additional parameter\n",
    "\n",
    "search_query = 'metrics.rmse < 3.27 and metrics.mae < 2.45'\n",
    "mlflow.search_runs(['0'], search_query)"
   ]
  },
  {
   "cell_type": "code",
   "execution_count": null,
   "id": "f38d7058",
   "metadata": {
    "pycharm": {
     "name": "#%%\n"
    }
   },
   "outputs": [],
   "source": [
    "# the output can be read as a dataframe, which can be used for further analysis\n",
    "\n",
    "search_query = 'metrics.rmse < 3.27 and metrics.mae < 2.45'\n",
    "df = mlflow.search_runs(['0'], search_query)\n",
    "df.head()"
   ]
  },
  {
   "cell_type": "code",
   "execution_count": null,
   "id": "ef8a2650",
   "metadata": {
    "pycharm": {
     "name": "#%%\n"
    },
    "scrolled": true
   },
   "outputs": [],
   "source": [
    "print ('Run IDs with least MAE are: \\n')\n",
    "\n",
    "for run in df['run_id'][df['metrics.mae']==df['metrics.mae'].min()].values:\n",
    "    print(run, end=', ' )"
   ]
  },
  {
   "cell_type": "markdown",
   "id": "bf76a8b7",
   "metadata": {
    "pycharm": {
     "name": "#%% md\n"
    }
   },
   "source": [
    "## Getting details of a run"
   ]
  },
  {
   "cell_type": "code",
   "execution_count": null,
   "id": "857b217d",
   "metadata": {
    "pycharm": {
     "name": "#%%\n"
    }
   },
   "outputs": [],
   "source": [
    "client = mlflow.tracking.MlflowClient()"
   ]
  },
  {
   "cell_type": "code",
   "execution_count": null,
   "id": "3a12568a",
   "metadata": {
    "pycharm": {
     "name": "#%%\n"
    }
   },
   "outputs": [],
   "source": [
    "client.get_run('6872d876df034cd0b0b690fdbeb2d427')"
   ]
  },
  {
   "cell_type": "markdown",
   "id": "141167b6",
   "metadata": {
    "pycharm": {
     "name": "#%% md\n"
    }
   },
   "source": [
    "## Serving the model"
   ]
  },
  {
   "cell_type": "markdown",
   "id": "7db42e9f",
   "metadata": {
    "pycharm": {
     "name": "#%% md\n"
    }
   },
   "source": [
    "### Terminal command to initiate model serving\n",
    "\n",
    "mlflow models serve --model-uri mlruns/{experiment_id}/{run_id}/artifacts/{model_name} -p {port}"
   ]
  },
  {
   "cell_type": "code",
   "execution_count": null,
   "id": "de41c923",
   "metadata": {
    "pycharm": {
     "name": "#%%\n"
    },
    "scrolled": false
   },
   "outputs": [],
   "source": [
    "# filling in the required details\n",
    "\n",
    "!mlflow models serve --model-uri mlruns/0/6872d876df034cd0b0b690fdbeb2d427/artifacts/PlainRegression_Model -p 5600"
   ]
  },
  {
   "cell_type": "markdown",
   "id": "fc665f54",
   "metadata": {
    "pycharm": {
     "name": "#%% md\n"
    }
   },
   "source": [
    "# CURL Command to post requests\n",
    "\n",
    "curl http://127.0.0.1:{port_number}/invocations -H 'Content-Type: application/json' -d '{\n",
    "    \"columns\": ['col1', 'col2', 'col3', 'col4', 'col5'],\n",
    "    \"data\": [[x1, x2, x3, x4, x5], [b1, b2, b3, b4, b5]]\n",
    "}'"
   ]
  },
  {
   "cell_type": "code",
   "execution_count": null,
   "id": "a62041a1",
   "metadata": {
    "pycharm": {
     "name": "#%%\n"
    }
   },
   "outputs": [],
   "source": [
    "!curl http://127.0.0.1:5600/invocations -H 'Content-Type: application/json' -d '{ \"columns\": [\"cylinders\", \"displacement\", \"horsepower\", \"weight\", \"acceleration\", \"model_year\", \"origin\"], \"data\": [[8, 350.0, 165.0, 3693.0, 11.5, 70, 1]] }'"
   ]
  },
  {
   "cell_type": "code",
   "execution_count": null,
   "id": "23716e34",
   "metadata": {
    "pycharm": {
     "name": "#%%\n"
    }
   },
   "outputs": [],
   "source": []
  }
 ],
 "metadata": {
  "kernelspec": {
   "display_name": "Python 3 (ipykernel)",
   "language": "python",
   "name": "python3"
  },
  "language_info": {
   "codemirror_mode": {
    "name": "ipython",
    "version": 3
   },
   "file_extension": ".py",
   "mimetype": "text/x-python",
   "name": "python",
   "nbconvert_exporter": "python",
   "pygments_lexer": "ipython3",
   "version": "3.9.9"
  }
 },
 "nbformat": 4,
 "nbformat_minor": 5
}
