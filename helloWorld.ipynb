{
 "cells": [
  {
   "cell_type": "markdown",
   "id": "cc981543",
   "metadata": {},
   "source": [
    "##### Getting started"
   ]
  },
  {
   "cell_type": "code",
   "execution_count": 1,
   "id": "57365290",
   "metadata": {},
   "outputs": [],
   "source": [
    "# !pip install mlflow"
   ]
  },
  {
   "cell_type": "markdown",
   "id": "80ebea36",
   "metadata": {},
   "source": [
    "##### Load mlflow"
   ]
  },
  {
   "cell_type": "code",
   "execution_count": 2,
   "id": "d0f05a2d",
   "metadata": {},
   "outputs": [
    {
     "name": "stdout",
     "output_type": "stream",
     "text": [
      "MLflow Version: 2.1.1\n",
      "Pandas Version: 1.5.2\n",
      "Scikit-learn Version: 1.2.0\n",
      "Matplotlib Version: 3.6.3\n"
     ]
    }
   ],
   "source": [
    "import mlflow\n",
    "import os\n",
    "from random import random, randint\n",
    "import matplotlib\n",
    "import matplotlib.pyplot as plt\n",
    "import pandas as pd\n",
    "import sklearn\n",
    "\n",
    "print(\"MLflow Version:\", mlflow.version.VERSION)\n",
    "print(\"Pandas Version:\", pd.__version__)\n",
    "print (\"Scikit-learn Version:\", sklearn.__version__)\n",
    "print(\"Matplotlib Version:\", matplotlib.__version__)"
   ]
  },
  {
   "cell_type": "code",
   "execution_count": 10,
   "id": "16c3150e",
   "metadata": {},
   "outputs": [],
   "source": [
    "def run(run_name=\"\"):\n",
    "    mlflow.set_experiment(\"helloWorld\")\n",
    "    \n",
    "    with mlflow.start_run() as r:\n",
    "        print(\"Running helloWorld.ipynb\")\n",
    "        print(\"Model run: \", r.info.run_uuid)\n",
    "        mlflow.set_tag(\"mlflow.runName\", run_name)\n",
    "        mlflow.log_param(\"param1\", randint(0, 100))\n",
    "\n",
    "        mlflow.log_metric(\"foo\", random())\n",
    "        mlflow.log_metric(\"foo1\", random() + 1)\n",
    "\n",
    "        mlflow.set_tag(\"run_origin\", \"jupyter_notebook\")\n",
    "\n",
    "        if not os.path.exists(\"outputs\"):\n",
    "            os.makedirs(\"outputs\")\n",
    "        with open(\"outputs/test.txt\", \"w\") as f:\n",
    "            f.write(\"hello world!\")\n",
    "\n",
    "        mlflow.log_artifacts(\"outputs\", artifact_path=\"artifact\")\n",
    "\n",
    "        mlflow.end_run()"
   ]
  },
  {
   "cell_type": "code",
   "execution_count": 13,
   "id": "a529e357",
   "metadata": {},
   "outputs": [
    {
     "name": "stderr",
     "output_type": "stream",
     "text": [
      "2023/01/17 21:41:21 INFO mlflow.tracking.fluent: Experiment with name 'helloWorld' does not exist. Creating a new experiment.\n"
     ]
    },
    {
     "name": "stdout",
     "output_type": "stream",
     "text": [
      "Running helloWorld.ipynb\n",
      "Model run:  36955e02fa5e4769a25827e2e9e4343c\n"
     ]
    }
   ],
   "source": [
    "run()"
   ]
  },
  {
   "cell_type": "code",
   "execution_count": 14,
   "id": "d4517571",
   "metadata": {
    "scrolled": true
   },
   "outputs": [
    {
     "name": "stdout",
     "output_type": "stream",
     "text": [
      "Running helloWorld.ipynb\n",
      "Model run:  7486413ac8f14051b458dccf419a0f3a\n"
     ]
    }
   ],
   "source": [
    "run(\"LocalRun\")"
   ]
  },
  {
   "cell_type": "markdown",
   "id": "9ee97ae1",
   "metadata": {},
   "source": [
    "MLflow runs can be recorded to local files, a SQL database or a remote tracking server. Be default, run logs are saved in a `mlruns` directory created in the parent directory where all your code ran. You can now use `mlflow ui` to view these logged runs. "
   ]
  },
  {
   "cell_type": "markdown",
   "id": "dc8a307a",
   "metadata": {},
   "source": [
    "##### Setting up MLflow Tracking User Interface"
   ]
  },
  {
   "cell_type": "code",
   "execution_count": 12,
   "id": "e3db6fcd",
   "metadata": {},
   "outputs": [
    {
     "name": "stdout",
     "output_type": "stream",
     "text": [
      "MLflow Version: 2.1.1\n",
      "Tracking URI: http://localhost:8968\n"
     ]
    }
   ],
   "source": [
    "print(\"MLflow Version:\", mlflow.version.VERSION)\n",
    "mlflow.set_tracking_uri(\"http://localhost:8968\")\n",
    "print(\"Tracking URI:\", mlflow.tracking.get_tracking_uri())"
   ]
  },
  {
   "cell_type": "markdown",
   "id": "7108b6db",
   "metadata": {},
   "source": [
    "Another approach to lauch `mlflow ui` is through terminal as mentioned below.  \n",
    "\n",
    "<ol>\n",
    "<li>Navigate to the folder where your code resides</li>\n",
    "<li>Launch a terminal and type <code>mlflow ui</code></li>\n",
    "<li>Open browser and type <code>http://localhost:5000</code> or <code>http://127.0.0.1:5000</code></li>\n",
    "</ol>\n",
    "\n",
    "The command mlflow ui hosts the MLFlow UI locally on the default port of <code>5000</code>. However, the options <code>-p 1234</code> tell it that you want to host it specifically on the port <code>1234</code>.\n",
    "\n"
   ]
  },
  {
   "cell_type": "code",
   "execution_count": null,
   "id": "debb5e70",
   "metadata": {},
   "outputs": [],
   "source": []
  }
 ],
 "metadata": {
  "kernelspec": {
   "display_name": "Python 3 (ipykernel)",
   "language": "python",
   "name": "python3"
  },
  "language_info": {
   "codemirror_mode": {
    "name": "ipython",
    "version": 3
   },
   "file_extension": ".py",
   "mimetype": "text/x-python",
   "name": "python",
   "nbconvert_exporter": "python",
   "pygments_lexer": "ipython3",
   "version": "3.9.9"
  }
 },
 "nbformat": 4,
 "nbformat_minor": 5
}
