{
 "cells": [
  {
   "cell_type": "code",
   "execution_count": 2,
   "id": "b362f98c",
   "metadata": {
    "pycharm": {
     "name": "#%%\n"
    }
   },
   "outputs": [],
   "source": [
    "import mlflow\n",
    "import pandas as pd\n",
    "import numpy as np\n",
    "import matplotlib.pyplot as plt\n",
    "from sklearn.metrics import mean_squared_error, mean_absolute_error\n",
    "from sklearn.model_selection import train_test_split\n",
    "from sklearn.linear_model import ElasticNet\n",
    "import os"
   ]
  },
  {
   "cell_type": "markdown",
   "id": "f3ddef3e",
   "metadata": {
    "pycharm": {
     "name": "#%% md\n"
    }
   },
   "source": [
    "### Data Source: https://archive.ics.uci.edu/ml/datasets/Auto+MPG"
   ]
  },
  {
   "cell_type": "code",
   "execution_count": 14,
   "id": "fbd9186d",
   "metadata": {
    "pycharm": {
     "name": "#%%\n"
    }
   },
   "outputs": [
    {
     "data": {
      "text/html": [
       "<div>\n",
       "<style scoped>\n",
       "    .dataframe tbody tr th:only-of-type {\n",
       "        vertical-align: middle;\n",
       "    }\n",
       "\n",
       "    .dataframe tbody tr th {\n",
       "        vertical-align: top;\n",
       "    }\n",
       "\n",
       "    .dataframe thead th {\n",
       "        text-align: right;\n",
       "    }\n",
       "</style>\n",
       "<table border=\"1\" class=\"dataframe\">\n",
       "  <thead>\n",
       "    <tr style=\"text-align: right;\">\n",
       "      <th></th>\n",
       "      <th>0</th>\n",
       "      <th>1</th>\n",
       "      <th>2</th>\n",
       "      <th>3</th>\n",
       "      <th>4</th>\n",
       "      <th>5</th>\n",
       "      <th>6</th>\n",
       "      <th>7</th>\n",
       "      <th>8</th>\n",
       "    </tr>\n",
       "  </thead>\n",
       "  <tbody>\n",
       "    <tr>\n",
       "      <th>0</th>\n",
       "      <td>18.0</td>\n",
       "      <td>8</td>\n",
       "      <td>307.0</td>\n",
       "      <td>130.0</td>\n",
       "      <td>3504.0</td>\n",
       "      <td>12.0</td>\n",
       "      <td>70</td>\n",
       "      <td>1</td>\n",
       "      <td>chevrolet chevelle malibu</td>\n",
       "    </tr>\n",
       "    <tr>\n",
       "      <th>1</th>\n",
       "      <td>15.0</td>\n",
       "      <td>8</td>\n",
       "      <td>350.0</td>\n",
       "      <td>165.0</td>\n",
       "      <td>3693.0</td>\n",
       "      <td>11.5</td>\n",
       "      <td>70</td>\n",
       "      <td>1</td>\n",
       "      <td>buick skylark 320</td>\n",
       "    </tr>\n",
       "    <tr>\n",
       "      <th>2</th>\n",
       "      <td>18.0</td>\n",
       "      <td>8</td>\n",
       "      <td>318.0</td>\n",
       "      <td>150.0</td>\n",
       "      <td>3436.0</td>\n",
       "      <td>11.0</td>\n",
       "      <td>70</td>\n",
       "      <td>1</td>\n",
       "      <td>plymouth satellite</td>\n",
       "    </tr>\n",
       "    <tr>\n",
       "      <th>3</th>\n",
       "      <td>16.0</td>\n",
       "      <td>8</td>\n",
       "      <td>304.0</td>\n",
       "      <td>150.0</td>\n",
       "      <td>3433.0</td>\n",
       "      <td>12.0</td>\n",
       "      <td>70</td>\n",
       "      <td>1</td>\n",
       "      <td>amc rebel sst</td>\n",
       "    </tr>\n",
       "    <tr>\n",
       "      <th>4</th>\n",
       "      <td>17.0</td>\n",
       "      <td>8</td>\n",
       "      <td>302.0</td>\n",
       "      <td>140.0</td>\n",
       "      <td>3449.0</td>\n",
       "      <td>10.5</td>\n",
       "      <td>70</td>\n",
       "      <td>1</td>\n",
       "      <td>ford torino</td>\n",
       "    </tr>\n",
       "  </tbody>\n",
       "</table>\n",
       "</div>"
      ],
      "text/plain": [
       "      0  1      2      3       4     5   6  7                          8\n",
       "0  18.0  8  307.0  130.0  3504.0  12.0  70  1  chevrolet chevelle malibu\n",
       "1  15.0  8  350.0  165.0  3693.0  11.5  70  1          buick skylark 320\n",
       "2  18.0  8  318.0  150.0  3436.0  11.0  70  1         plymouth satellite\n",
       "3  16.0  8  304.0  150.0  3433.0  12.0  70  1              amc rebel sst\n",
       "4  17.0  8  302.0  140.0  3449.0  10.5  70  1                ford torino"
      ]
     },
     "execution_count": 14,
     "metadata": {},
     "output_type": "execute_result"
    }
   ],
   "source": [
    "\n",
    "# reading the dataset\n",
    "\n",
    "df = pd.read_csv('data/auto-mpg.data', header=None, delimiter=\"\\s+\")\n",
    "\n",
    "# df[[0, 'car_name']] = df[0].str.split('\\t', expand=True)\n",
    "\n",
    "df.head()\n"
   ]
  },
  {
   "cell_type": "code",
   "execution_count": 15,
   "id": "69fb721a",
   "metadata": {
    "pycharm": {
     "name": "#%%\n"
    }
   },
   "outputs": [
    {
     "data": {
      "text/html": [
       "<div>\n",
       "<style scoped>\n",
       "    .dataframe tbody tr th:only-of-type {\n",
       "        vertical-align: middle;\n",
       "    }\n",
       "\n",
       "    .dataframe tbody tr th {\n",
       "        vertical-align: top;\n",
       "    }\n",
       "\n",
       "    .dataframe thead th {\n",
       "        text-align: right;\n",
       "    }\n",
       "</style>\n",
       "<table border=\"1\" class=\"dataframe\">\n",
       "  <thead>\n",
       "    <tr style=\"text-align: right;\">\n",
       "      <th></th>\n",
       "      <th>mpg</th>\n",
       "      <th>cylinders</th>\n",
       "      <th>displacement</th>\n",
       "      <th>horsepower</th>\n",
       "      <th>weight</th>\n",
       "      <th>acceleration</th>\n",
       "      <th>model_year</th>\n",
       "      <th>origin</th>\n",
       "      <th>car_name</th>\n",
       "    </tr>\n",
       "  </thead>\n",
       "  <tbody>\n",
       "    <tr>\n",
       "      <th>0</th>\n",
       "      <td>18.0</td>\n",
       "      <td>8</td>\n",
       "      <td>307.0</td>\n",
       "      <td>130.0</td>\n",
       "      <td>3504.0</td>\n",
       "      <td>12.0</td>\n",
       "      <td>70</td>\n",
       "      <td>1</td>\n",
       "      <td>chevrolet chevelle malibu</td>\n",
       "    </tr>\n",
       "    <tr>\n",
       "      <th>1</th>\n",
       "      <td>15.0</td>\n",
       "      <td>8</td>\n",
       "      <td>350.0</td>\n",
       "      <td>165.0</td>\n",
       "      <td>3693.0</td>\n",
       "      <td>11.5</td>\n",
       "      <td>70</td>\n",
       "      <td>1</td>\n",
       "      <td>buick skylark 320</td>\n",
       "    </tr>\n",
       "    <tr>\n",
       "      <th>2</th>\n",
       "      <td>18.0</td>\n",
       "      <td>8</td>\n",
       "      <td>318.0</td>\n",
       "      <td>150.0</td>\n",
       "      <td>3436.0</td>\n",
       "      <td>11.0</td>\n",
       "      <td>70</td>\n",
       "      <td>1</td>\n",
       "      <td>plymouth satellite</td>\n",
       "    </tr>\n",
       "    <tr>\n",
       "      <th>3</th>\n",
       "      <td>16.0</td>\n",
       "      <td>8</td>\n",
       "      <td>304.0</td>\n",
       "      <td>150.0</td>\n",
       "      <td>3433.0</td>\n",
       "      <td>12.0</td>\n",
       "      <td>70</td>\n",
       "      <td>1</td>\n",
       "      <td>amc rebel sst</td>\n",
       "    </tr>\n",
       "    <tr>\n",
       "      <th>4</th>\n",
       "      <td>17.0</td>\n",
       "      <td>8</td>\n",
       "      <td>302.0</td>\n",
       "      <td>140.0</td>\n",
       "      <td>3449.0</td>\n",
       "      <td>10.5</td>\n",
       "      <td>70</td>\n",
       "      <td>1</td>\n",
       "      <td>ford torino</td>\n",
       "    </tr>\n",
       "  </tbody>\n",
       "</table>\n",
       "</div>"
      ],
      "text/plain": [
       "    mpg  cylinders  displacement horsepower  weight  acceleration  model_year  \\\n",
       "0  18.0          8         307.0      130.0  3504.0          12.0          70   \n",
       "1  15.0          8         350.0      165.0  3693.0          11.5          70   \n",
       "2  18.0          8         318.0      150.0  3436.0          11.0          70   \n",
       "3  16.0          8         304.0      150.0  3433.0          12.0          70   \n",
       "4  17.0          8         302.0      140.0  3449.0          10.5          70   \n",
       "\n",
       "   origin                   car_name  \n",
       "0       1  chevrolet chevelle malibu  \n",
       "1       1          buick skylark 320  \n",
       "2       1         plymouth satellite  \n",
       "3       1              amc rebel sst  \n",
       "4       1                ford torino  "
      ]
     },
     "execution_count": 15,
     "metadata": {},
     "output_type": "execute_result"
    }
   ],
   "source": [
    "\n",
    "# defining column names\n",
    "columns = ['mpg', 'cylinders', 'displacement', 'horsepower', 'weight', 'acceleration', 'model_year', 'origin', 'car_name']\n",
    "\n",
    "df.columns = columns\n",
    "# df['car_name'] = df['car_name'].apply(lambda x: x.replace('\"', ''))\n",
    "\n",
    "df.head()"
   ]
  },
  {
   "cell_type": "code",
   "execution_count": 18,
   "id": "f58bd884",
   "metadata": {
    "pycharm": {
     "name": "#%%\n"
    }
   },
   "outputs": [],
   "source": [
    "# converting columns to float type\n",
    "for col in df.columns:\n",
    "    if col not in ['mpg', 'car_name']:\n",
    "        df = df[pd.to_numeric(df[col], errors='coerce').notnull()]\n",
    "        df[col] = df[col].astype(float)\n",
    "\n",
    "# seperating dependant and independant variables\n",
    "X = df[['cylinders', 'displacement', 'horsepower', 'weight', 'acceleration', 'model_year', 'origin']]\n",
    "y = df['mpg']"
   ]
  },
  {
   "cell_type": "code",
   "execution_count": 19,
   "id": "c18dbd03",
   "metadata": {
    "pycharm": {
     "name": "#%%\n"
    }
   },
   "outputs": [],
   "source": [
    "# train test split\n",
    "train_X, test_X, train_y, test_y = train_test_split(X,y,random_state=0)"
   ]
  },
  {
   "cell_type": "code",
   "execution_count": 20,
   "id": "58e3c06a",
   "metadata": {
    "pycharm": {
     "name": "#%%\n"
    }
   },
   "outputs": [],
   "source": [
    "# function to evaluate model performance\n",
    "def eval_metrics(actual, pred):\n",
    "    rmse = np.sqrt(mean_squared_error(actual, pred))\n",
    "    mae = mean_absolute_error(actual, pred)\n",
    "    return rmse, mae"
   ]
  },
  {
   "cell_type": "markdown",
   "id": "ddfef3f2",
   "metadata": {
    "pycharm": {
     "name": "#%% md\n"
    }
   },
   "source": [
    "## The conventional way"
   ]
  },
  {
   "cell_type": "code",
   "execution_count": 21,
   "id": "d6260281",
   "metadata": {
    "pycharm": {
     "name": "#%%\n"
    }
   },
   "outputs": [
    {
     "name": "stdout",
     "output_type": "stream",
     "text": [
      "Hyperparameters: Alpha =  0.01, L1 Ratio = 0.15 \n",
      "\n",
      "Model Performance on test set: RMSE = 3.2640850592427535, MAE = 2.442825267353496 \n",
      "\n"
     ]
    }
   ],
   "source": [
    "alpha, l1_ratio = 0.01, 0.15\n",
    "    \n",
    "# initiating an elastic net model\n",
    "lr = ElasticNet(alpha=alpha, l1_ratio=l1_ratio, random_state=42)\n",
    "\n",
    "# fitting the model with train dataset\n",
    "lr.fit(train_X, train_y)\n",
    "\n",
    "# making predictions on test set\n",
    "y_pred = lr.predict(test_X)\n",
    "\n",
    "# obtaining the model performance\n",
    "rmse, mae = eval_metrics(test_y, y_pred)\n",
    "\n",
    "print('Hyperparameters: Alpha =  {}, L1 Ratio = {} \\n'.format(alpha, l1_ratio))\n",
    "\n",
    "print('Model Performance on test set: RMSE = {}, MAE = {} \\n'.format(rmse, mae))"
   ]
  },
  {
   "cell_type": "code",
   "execution_count": 22,
   "id": "ef30d18f",
   "metadata": {
    "pycharm": {
     "name": "#%%\n"
    }
   },
   "outputs": [
    {
     "name": "stdout",
     "output_type": "stream",
     "text": [
      "Hyperparameters: Alpha =  0.01, L1 Ratio = 0.15 \n",
      "\n",
      "Model Performance on test set: RMSE = 3.2640850592427535, MAE = 2.442825267353496 \n",
      "\n",
      "-------------------------------------------------- \n",
      "\n",
      "Hyperparameters: Alpha =  0.01, L1 Ratio = 0.2 \n",
      "\n",
      "Model Performance on test set: RMSE = 3.2641081943690287, MAE = 2.442779799335202 \n",
      "\n",
      "-------------------------------------------------- \n",
      "\n",
      "Hyperparameters: Alpha =  0.01, L1 Ratio = 0.5 \n",
      "\n",
      "Model Performance on test set: RMSE = 3.264253936304378, MAE = 2.442505372857683 \n",
      "\n",
      "-------------------------------------------------- \n",
      "\n",
      "Hyperparameters: Alpha =  0.02, L1 Ratio = 0.15 \n",
      "\n",
      "Model Performance on test set: RMSE = 3.2682306618265717, MAE = 2.4462236246381988 \n",
      "\n",
      "-------------------------------------------------- \n",
      "\n",
      "Hyperparameters: Alpha =  0.02, L1 Ratio = 0.2 \n",
      "\n",
      "Model Performance on test set: RMSE = 3.268290119727705, MAE = 2.446143110178125 \n",
      "\n",
      "-------------------------------------------------- \n",
      "\n",
      "Hyperparameters: Alpha =  0.02, L1 Ratio = 0.5 \n",
      "\n",
      "Model Performance on test set: RMSE = 3.268674967967475, MAE = 2.4456545533936804 \n",
      "\n",
      "-------------------------------------------------- \n",
      "\n",
      "Hyperparameters: Alpha =  0.5, L1 Ratio = 0.15 \n",
      "\n",
      "Model Performance on test set: RMSE = 3.393387034540801, MAE = 2.556767395061808 \n",
      "\n",
      "-------------------------------------------------- \n",
      "\n",
      "Hyperparameters: Alpha =  0.5, L1 Ratio = 0.2 \n",
      "\n",
      "Model Performance on test set: RMSE = 3.396458991035912, MAE = 2.5595987553371016 \n",
      "\n",
      "-------------------------------------------------- \n",
      "\n",
      "Hyperparameters: Alpha =  0.5, L1 Ratio = 0.5 \n",
      "\n",
      "Model Performance on test set: RMSE = 3.418455637049289, MAE = 2.5797626917276975 \n",
      "\n",
      "-------------------------------------------------- \n",
      "\n"
     ]
    }
   ],
   "source": [
    "alphas, l1_ratios = [0.01, 0.02, 0.5], [0.15, 0.2, 0.5]\n",
    "    \n",
    "for alpha in alphas:\n",
    "    for l1_ratio in l1_ratios:\n",
    "        # initiating an elastic net model\n",
    "        lr = ElasticNet(alpha=alpha, l1_ratio=l1_ratio, random_state=42)\n",
    "\n",
    "        # fitting the model with train dataset\n",
    "        lr.fit(train_X, train_y)\n",
    "\n",
    "        # making predictions on test set\n",
    "        y_pred = lr.predict(test_X)\n",
    "\n",
    "        # obtaining the model performance\n",
    "        rmse, mae = eval_metrics(test_y, y_pred)\n",
    "\n",
    "        print('Hyperparameters: Alpha =  {}, L1 Ratio = {} \\n'.format(alpha, l1_ratio))\n",
    "\n",
    "        print('Model Performance on test set: RMSE = {}, MAE = {} \\n'.format(rmse, mae))\n",
    "        \n",
    "        print ('-'*50,'\\n')"
   ]
  },
  {
   "cell_type": "markdown",
   "id": "32879eb1",
   "metadata": {
    "pycharm": {
     "name": "#%% md\n"
    }
   },
   "source": [
    "## Using mlflow"
   ]
  },
  {
   "cell_type": "code",
   "execution_count": 26,
   "id": "bb502b85",
   "metadata": {
    "pycharm": {
     "name": "#%%\n"
    },
    "scrolled": false
   },
   "outputs": [],
   "source": [
    "# AMC Note: for some reason it always looks for standard port 5000,\n",
    "# but it will not raise an error if server is not reached, just it\n",
    "# will not save the run, apparently the custom port should be re-declared \n",
    "# on each notebook prior to running mlflow command as the next line indicates:\n",
    "mlflow.set_tracking_uri(\"http://localhost:8968\")\n",
    "# defining a new experiment\n",
    "experiment_name = 'PlainRegression'\n",
    "# returns experiment ID\n",
    "try:\n",
    "    # creating a new experiment\n",
    "    exp_id = mlflow.create_experiment(name=experiment_name)\n",
    "except Exception as e:\n",
    "    exp_id = mlflow.get_experiment_by_name(experiment_name).experiment_id"
   ]
  },
  {
   "cell_type": "code",
   "execution_count": 31,
   "id": "13bc9b7e",
   "metadata": {
    "pycharm": {
     "name": "#%%\n"
    }
   },
   "outputs": [
    {
     "data": {
      "image/png": "[encoded data removed]",
      "text/plain": [
       "<Figure size 1600x900 with 8 Axes>"
      ]
     },
     "metadata": {},
     "output_type": "display_data"
    }
   ],
   "source": [
    "if 'images' not in os.listdir():\n",
    "    os.mkdir('images')\n",
    "\n",
    "with mlflow.start_run(experiment_id=exp_id, run_name='Run 1'):\n",
    "    \n",
    "    # simulating EDA process by creating distribution plots for all the features\n",
    "    train_X.plot(kind='box', subplots=True, layout=(2,4), figsize=(16,9), title='Box plot of each feature')\n",
    "    \n",
    "    # saving the image to images folder\n",
    "    plt.savefig('images/distribution_plot_all_features.png')\n",
    "\n",
    "    # logging artifacts -> saves the image and enables tracking for later use\n",
    "    mlflow.log_artifacts('images')\n",
    "    \n",
    "    # defining alpha and l1 ratio\n",
    "    alpha, l1_ratio = 0.02, 0.15\n",
    "    \n",
    "    # initiating an elastic net model\n",
    "    lr = ElasticNet(alpha=alpha, l1_ratio=l1_ratio, random_state=42)\n",
    "\n",
    "    # fitting the model with train dataset\n",
    "    lr.fit(train_X, train_y)\n",
    "\n",
    "    # making predictions on test set\n",
    "    y_pred = lr.predict(test_X)\n",
    "\n",
    "    # obtaining the model performance\n",
    "    rmse, mae = eval_metrics(test_y, y_pred)\n",
    "    \n",
    "    # logging the parameters \n",
    "    mlflow.log_param('alpha', alpha)\n",
    "    mlflow.log_param('l1_ratio', l1_ratio)\n",
    "        \n",
    "    # logging the metrics\n",
    "    mlflow.log_metric('rmse', rmse)\n",
    "    mlflow.log_metric('mae', mae)\n",
    "    # can be passed as dictionary to mlflow.log_metrics({'rmse': rmse, 'mae': mae})\n",
    "    \n",
    "    # saving the model for later use\n",
    "    mlflow.sklearn.log_model(lr, \"PlainRegression_Model\")\n",
    "    "
   ]
  },
  {
   "cell_type": "markdown",
   "id": "8bd83d44",
   "metadata": {
    "pycharm": {
     "name": "#%% md\n"
    }
   },
   "source": [
    "## Hyperparameter Tuning using mlflow"
   ]
  },
  {
   "cell_type": "code",
   "execution_count": null,
   "id": "0bfadd36",
   "metadata": {
    "pycharm": {
     "name": "#%%\n"
    }
   },
   "outputs": [],
   "source": [
    "# defining a new experiment\n",
    "experiment_name = 'PlainRegression_HyperParameter_Search'\n",
    "# returns experiment ID\n",
    "try:\n",
    "    # creating a new experiment\n",
    "    exp_id = mlflow.create_experiment(name=experiment_name)\n",
    "except Exception as e:\n",
    "    exp_id = mlflow.get_experiment_by_name(experiment_name).experiment_id"
   ]
  },
  {
   "cell_type": "code",
   "execution_count": null,
   "id": "ed6003f4",
   "metadata": {
    "pycharm": {
     "name": "#%%\n"
    }
   },
   "outputs": [],
   "source": [
    "# defining alpha and l1 ratio\n",
    "alphas, l1_ratios = [0.01, 0.05, 0.1, 0.02, 0.03], [0.15, 0.1, 0.2, 0.25]\n",
    "\n",
    "for alpha in alphas:\n",
    "    for l1_ratio in l1_ratios:\n",
    "        # starting an mlflow run, and tracking them under the experiment defined above\n",
    "        with mlflow.start_run(experiment_id=exp_id):\n",
    "\n",
    "            # logging artifacts -> saves the image and enables tracking for later use\n",
    "            mlflow.log_artifacts('images')\n",
    "\n",
    "            # initiating an elastic net model\n",
    "            lr = ElasticNet(alpha=alpha, l1_ratio=l1_ratio, random_state=42)\n",
    "\n",
    "            # fitting the model with train dataset\n",
    "            lr.fit(train_X, train_y)\n",
    "\n",
    "            # making predictions on test set\n",
    "            y_pred = lr.predict(test_X)\n",
    "\n",
    "            # obtaining the model performance\n",
    "            rmse, mae = eval_metrics(test_y, y_pred)\n",
    "\n",
    "            # logging hyperparameters defined above\n",
    "            mlflow.log_param(\"alpha\", alpha)\n",
    "            mlflow.log_param(\"l1_ratio\", l1_ratio)\n",
    "\n",
    "            # logging performance of the model\n",
    "            mlflow.log_metric(\"rmse\", rmse)\n",
    "            mlflow.log_metric(\"mae\", mae)\n",
    "    "
   ]
  },
  {
   "cell_type": "code",
   "execution_count": null,
   "id": "47831447",
   "metadata": {
    "pycharm": {
     "name": "#%%\n"
    }
   },
   "outputs": [],
   "source": []
  },
  {
   "cell_type": "code",
   "execution_count": null,
   "id": "003c1a44",
   "metadata": {
    "pycharm": {
     "name": "#%%\n"
    }
   },
   "outputs": [],
   "source": []
  }
 ],
 "metadata": {
  "kernelspec": {
   "display_name": "Python 3 (ipykernel)",
   "language": "python",
   "name": "python3"
  },
  "language_info": {
   "codemirror_mode": {
    "name": "ipython",
    "version": 3
   },
   "file_extension": ".py",
   "mimetype": "text/x-python",
   "name": "python",
   "nbconvert_exporter": "python",
   "pygments_lexer": "ipython3",
   "version": "3.9.9"
  }
 },
 "nbformat": 4,
 "nbformat_minor": 5
}
